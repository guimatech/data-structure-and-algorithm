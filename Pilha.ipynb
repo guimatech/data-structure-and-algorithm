{
  "nbformat": 4,
  "nbformat_minor": 0,
  "metadata": {
    "colab": {
      "provenance": [],
      "authorship_tag": "ABX9TyPLNx2TbyMHPuCYjge+/R1C",
      "include_colab_link": true
    },
    "kernelspec": {
      "name": "python3",
      "display_name": "Python 3"
    },
    "language_info": {
      "name": "python"
    }
  },
  "cells": [
    {
      "cell_type": "markdown",
      "metadata": {
        "id": "view-in-github",
        "colab_type": "text"
      },
      "source": [
        "<a href=\"https://colab.research.google.com/github/guimatech/data-structure-and-algorithm/blob/main/Pilha.ipynb\" target=\"_parent\"><img src=\"https://colab.research.google.com/assets/colab-badge.svg\" alt=\"Open In Colab\"/></a>"
      ]
    },
    {
      "cell_type": "markdown",
      "source": [
        "# Pilha"
      ],
      "metadata": {
        "id": "6EmGEcEQwVxY"
      }
    },
    {
      "cell_type": "code",
      "source": [
        "import numpy as np"
      ],
      "metadata": {
        "id": "8vJOiubvwl-1"
      },
      "execution_count": 1,
      "outputs": []
    },
    {
      "cell_type": "code",
      "source": [
        "class Pilha:\n",
        "\n",
        "  def __init__(self, capacidade):\n",
        "    self.__capacidade = capacidade\n",
        "    self.__topo = -1\n",
        "    self.__valores = np.empty(self.__capacidade, dtype=str)\n",
        "\n",
        "  def __pilha_cheia(self):\n",
        "    return self.__topo == self.__capacidade - 1\n",
        "\n",
        "  def pilha_vazia(self):\n",
        "    return self.__topo == -1\n",
        "\n",
        "  def empilhar(self, valor):\n",
        "    for char in valor:\n",
        "      if self.__pilha_cheia():\n",
        "        print('A pilha está cheia')\n",
        "      else:\n",
        "        self.__topo += 1\n",
        "        self.__valores[self.__topo] = char\n",
        "\n",
        "  def desempilhar(self):\n",
        "    if self.pilha_vazia():\n",
        "      print('A pilha está vázia')\n",
        "    else:\n",
        "      self.__topo -= 1\n",
        "\n",
        "  def ver_topo(self):\n",
        "    if self.__topo != -1:\n",
        "      return self.__valores[self.__topo]\n",
        "    else:\n",
        "      return -1"
      ],
      "metadata": {
        "id": "oklUSFy3wnMw"
      },
      "execution_count": 31,
      "outputs": []
    },
    {
      "cell_type": "code",
      "source": [
        "pilha = Pilha(5)"
      ],
      "metadata": {
        "id": "accl2Hdz1iFP"
      },
      "execution_count": null,
      "outputs": []
    },
    {
      "cell_type": "code",
      "source": [
        "pilha.ver_topo()"
      ],
      "metadata": {
        "colab": {
          "base_uri": "https://localhost:8080/"
        },
        "id": "a1p4AHdf1muI",
        "outputId": "4da0fe12-8961-4465-c950-775ff9c5e7b3"
      },
      "execution_count": null,
      "outputs": [
        {
          "output_type": "execute_result",
          "data": {
            "text/plain": [
              "-1"
            ]
          },
          "metadata": {},
          "execution_count": 13
        }
      ]
    },
    {
      "cell_type": "code",
      "source": [
        "pilha.empilhar(1)\n",
        "pilha.ver_topo()"
      ],
      "metadata": {
        "colab": {
          "base_uri": "https://localhost:8080/"
        },
        "id": "I7tjHUtlia7I",
        "outputId": "2f848d6c-deed-4552-8992-8e40b775fa5a"
      },
      "execution_count": null,
      "outputs": [
        {
          "output_type": "execute_result",
          "data": {
            "text/plain": [
              "1"
            ]
          },
          "metadata": {},
          "execution_count": 14
        }
      ]
    },
    {
      "cell_type": "code",
      "source": [
        "pilha.empilhar(1)\n",
        "pilha.empilhar(2)\n",
        "pilha.empilhar(3)\n",
        "pilha.empilhar(4)"
      ],
      "metadata": {
        "id": "7WdGTE5ciqio"
      },
      "execution_count": null,
      "outputs": []
    },
    {
      "cell_type": "code",
      "source": [
        "pilha.empilhar(6)"
      ],
      "metadata": {
        "colab": {
          "base_uri": "https://localhost:8080/"
        },
        "id": "2FSK3qkgiv59",
        "outputId": "81ccb5a0-e41d-40a5-9328-372f1ffcc50a"
      },
      "execution_count": null,
      "outputs": [
        {
          "output_type": "stream",
          "name": "stdout",
          "text": [
            "A pilha está cheia\n"
          ]
        }
      ]
    },
    {
      "cell_type": "code",
      "source": [
        "pilha.ver_topo()"
      ],
      "metadata": {
        "colab": {
          "base_uri": "https://localhost:8080/"
        },
        "id": "CBbDUZxvix6g",
        "outputId": "647407db-be91-4f73-cf4a-dd0d1f5b21f8"
      },
      "execution_count": null,
      "outputs": [
        {
          "output_type": "execute_result",
          "data": {
            "text/plain": [
              "4"
            ]
          },
          "metadata": {},
          "execution_count": 18
        }
      ]
    },
    {
      "cell_type": "code",
      "source": [
        "pilha.desempilhar()"
      ],
      "metadata": {
        "id": "yaAWK0gVi18R"
      },
      "execution_count": null,
      "outputs": []
    },
    {
      "cell_type": "code",
      "source": [
        "pilha.ver_topo()"
      ],
      "metadata": {
        "colab": {
          "base_uri": "https://localhost:8080/"
        },
        "id": "Lvf5tbu6i4xJ",
        "outputId": "1e4e813e-5217-4f5d-c750-49444ffb35dc"
      },
      "execution_count": null,
      "outputs": [
        {
          "output_type": "execute_result",
          "data": {
            "text/plain": [
              "3"
            ]
          },
          "metadata": {},
          "execution_count": 20
        }
      ]
    },
    {
      "cell_type": "code",
      "source": [
        "pilha.desempilhar()\n",
        "pilha.desempilhar()\n",
        "pilha.desempilhar()"
      ],
      "metadata": {
        "id": "Xr_X-XwAi8Zt"
      },
      "execution_count": null,
      "outputs": []
    },
    {
      "cell_type": "code",
      "source": [
        "pilha.ver_topo()"
      ],
      "metadata": {
        "colab": {
          "base_uri": "https://localhost:8080/"
        },
        "id": "2NF8SpoLi-5W",
        "outputId": "fc9776b5-59ab-49da-f790-6ddc83ac6cff"
      },
      "execution_count": null,
      "outputs": [
        {
          "output_type": "execute_result",
          "data": {
            "text/plain": [
              "1"
            ]
          },
          "metadata": {},
          "execution_count": 22
        }
      ]
    },
    {
      "cell_type": "code",
      "source": [
        "pilha.desempilhar()"
      ],
      "metadata": {
        "id": "xWfkn9yXjC8i"
      },
      "execution_count": null,
      "outputs": []
    },
    {
      "cell_type": "code",
      "source": [
        "pilha.ver_topo()"
      ],
      "metadata": {
        "colab": {
          "base_uri": "https://localhost:8080/"
        },
        "id": "BcgtVX-fjEGA",
        "outputId": "6fb5c7a5-2e22-4bba-de3d-4b5da1b6dece"
      },
      "execution_count": null,
      "outputs": [
        {
          "output_type": "execute_result",
          "data": {
            "text/plain": [
              "-1"
            ]
          },
          "metadata": {},
          "execution_count": 24
        }
      ]
    },
    {
      "cell_type": "code",
      "source": [
        "def validarExpressao(expressao):\n",
        "  pilha = Pilha(len(expressao))\n",
        "  marks = {'}': '{', ')': '(', ']': '['}\n",
        "  for index, caractere in enumerate(expressao):\n",
        "    if caractere in marks.values():\n",
        "      pilha.empilhar(caractere)\n",
        "    elif caractere in marks.keys():\n",
        "      if pilha.ver_topo() == marks[caractere]:\n",
        "        pilha.desempilhar()\n",
        "      else:\n",
        "        break\n",
        "\n",
        "  if pilha.pilha_vazia():\n",
        "    print('sucesso')\n",
        "  else:\n",
        "    print(f'Erro: {caractere} na posicao {index}')\n",
        "\n",
        "\n",
        "validarExpressao('a{b(c[d]e)f}')"
      ],
      "metadata": {
        "id": "DPx4P0NeZOlG",
        "outputId": "04abba1f-16ce-4be9-b666-724ffd249050",
        "colab": {
          "base_uri": "https://localhost:8080/"
        }
      },
      "execution_count": 32,
      "outputs": [
        {
          "output_type": "stream",
          "name": "stdout",
          "text": [
            "sucesso\n"
          ]
        }
      ]
    }
  ]
}