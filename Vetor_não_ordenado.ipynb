{
  "nbformat": 4,
  "nbformat_minor": 0,
  "metadata": {
    "colab": {
      "provenance": [],
      "authorship_tag": "ABX9TyMSKX9Jo86ZhA0gLZ0+CrZ1",
      "include_colab_link": true
    },
    "kernelspec": {
      "name": "python3",
      "display_name": "Python 3"
    },
    "language_info": {
      "name": "python"
    }
  },
  "cells": [
    {
      "cell_type": "markdown",
      "metadata": {
        "id": "view-in-github",
        "colab_type": "text"
      },
      "source": [
        "<a href=\"https://colab.research.google.com/github/guimatech/data-structure-and-algorithm/blob/main/Vetor_n%C3%A3o_ordenado.ipynb\" target=\"_parent\"><img src=\"https://colab.research.google.com/assets/colab-badge.svg\" alt=\"Open In Colab\"/></a>"
      ]
    },
    {
      "cell_type": "markdown",
      "source": [
        "# Vetor não ordenado"
      ],
      "metadata": {
        "id": "fLE0Wf-qTZoP"
      }
    },
    {
      "cell_type": "code",
      "execution_count": null,
      "metadata": {
        "id": "Yb-4PbBPTYnU"
      },
      "outputs": [],
      "source": [
        "import numpy as np"
      ]
    },
    {
      "cell_type": "code",
      "source": [
        "class VetorNaoOrdenado:\n",
        "  def __init__(self, capacidade):\n",
        "    self.capacidade = capacidade\n",
        "    self.ultima_posicao = -1\n",
        "    self.valores = np.empty(self.capacidade, dtype=int)\n",
        "\n",
        "  # O(n)\n",
        "  def imprime(self):\n",
        "    if self.ultima_posicao == -1:\n",
        "      print('O vetor está vázio')\n",
        "    else:\n",
        "      for i in range(self.ultima_posicao + 1):\n",
        "        print(i, ' - ', self.valores[i])\n",
        "\n",
        "  # O(1) - O(2)\n",
        "  def insere(self, valor):\n",
        "    if self.ultima_posicao == self.capacidade - 1:\n",
        "      print('Capacidade máxima atingida')\n",
        "    else:\n",
        "      self.ultima_posicao += 1\n",
        "      self.valores[self.ultima_posicao] = valor"
      ],
      "metadata": {
        "id": "DcIWb34ITohT"
      },
      "execution_count": null,
      "outputs": []
    },
    {
      "cell_type": "code",
      "source": [
        "vetor = VetorNaoOrdenado(5)"
      ],
      "metadata": {
        "id": "ghEd6wN4UnqD"
      },
      "execution_count": null,
      "outputs": []
    },
    {
      "cell_type": "code",
      "source": [
        "vetor.imprime()"
      ],
      "metadata": {
        "colab": {
          "base_uri": "https://localhost:8080/"
        },
        "id": "VfVeWRo1Uv7-",
        "outputId": "41fb472c-9225-4ccd-d77b-8c351d0f8f4e"
      },
      "execution_count": null,
      "outputs": [
        {
          "output_type": "stream",
          "name": "stdout",
          "text": [
            "O vetor está vázio\n"
          ]
        }
      ]
    },
    {
      "cell_type": "code",
      "source": [
        "vetor.insere(2)"
      ],
      "metadata": {
        "id": "5qIFFPp2WiHd"
      },
      "execution_count": null,
      "outputs": []
    },
    {
      "cell_type": "code",
      "source": [
        "vetor.imprime()"
      ],
      "metadata": {
        "colab": {
          "base_uri": "https://localhost:8080/"
        },
        "id": "5ZMrrf9dWla-",
        "outputId": "abdae118-d411-4a3f-bf7c-a76133624b17"
      },
      "execution_count": null,
      "outputs": [
        {
          "output_type": "stream",
          "name": "stdout",
          "text": [
            "0  -  2\n"
          ]
        }
      ]
    },
    {
      "cell_type": "code",
      "source": [
        "vetor.insere(3)\n",
        "vetor.insere(5)\n",
        "vetor.insere(8)\n",
        "vetor.insere(1)"
      ],
      "metadata": {
        "id": "ob4kHll_Wsh2"
      },
      "execution_count": null,
      "outputs": []
    },
    {
      "cell_type": "code",
      "source": [
        "vetor.imprime()"
      ],
      "metadata": {
        "colab": {
          "base_uri": "https://localhost:8080/"
        },
        "id": "UGP8fYiYXJNj",
        "outputId": "5c0e888b-1c59-42a2-b5c8-3b56dbe99ef6"
      },
      "execution_count": null,
      "outputs": [
        {
          "output_type": "stream",
          "name": "stdout",
          "text": [
            "0  -  2\n",
            "1  -  3\n",
            "2  -  5\n",
            "3  -  8\n",
            "4  -  1\n"
          ]
        }
      ]
    },
    {
      "cell_type": "code",
      "source": [
        "vetor.insere(7)"
      ],
      "metadata": {
        "colab": {
          "base_uri": "https://localhost:8080/"
        },
        "id": "4cbjIDgZW7Aw",
        "outputId": "e75d3cd9-3eba-4341-871f-c7146b815d2b"
      },
      "execution_count": null,
      "outputs": [
        {
          "output_type": "stream",
          "name": "stdout",
          "text": [
            "Capacidade máxima atingida\n"
          ]
        }
      ]
    },
    {
      "cell_type": "code",
      "source": [
        "vetor.ultima_posicao"
      ],
      "metadata": {
        "colab": {
          "base_uri": "https://localhost:8080/"
        },
        "id": "sbFGo-GDW_wf",
        "outputId": "657c2725-b73b-4017-c62c-6043c0da5265"
      },
      "execution_count": null,
      "outputs": [
        {
          "output_type": "execute_result",
          "data": {
            "text/plain": [
              "4"
            ]
          },
          "metadata": {},
          "execution_count": 17
        }
      ]
    },
    {
      "cell_type": "code",
      "source": [],
      "metadata": {
        "id": "fDsk-06oXcXX"
      },
      "execution_count": null,
      "outputs": []
    }
  ]
}