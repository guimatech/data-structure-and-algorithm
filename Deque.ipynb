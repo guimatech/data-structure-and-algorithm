{
  "nbformat": 4,
  "nbformat_minor": 0,
  "metadata": {
    "colab": {
      "provenance": [],
      "include_colab_link": true
    },
    "kernelspec": {
      "name": "python3",
      "display_name": "Python 3"
    }
  },
  "cells": [
    {
      "cell_type": "markdown",
      "metadata": {
        "id": "view-in-github",
        "colab_type": "text"
      },
      "source": [
        "<a href=\"https://colab.research.google.com/github/guimatech/data-structure-and-algorithm/blob/main/Deque.ipynb\" target=\"_parent\"><img src=\"https://colab.research.google.com/assets/colab-badge.svg\" alt=\"Open In Colab\"/></a>"
      ]
    },
    {
      "cell_type": "markdown",
      "metadata": {
        "id": "3L3hMZxPloS9"
      },
      "source": [
        "# Deque"
      ]
    },
    {
      "cell_type": "code",
      "metadata": {
        "id": "2IUgpxk2pQW1"
      },
      "source": [
        "import numpy as np"
      ],
      "execution_count": 1,
      "outputs": []
    },
    {
      "cell_type": "code",
      "metadata": {
        "id": "P7m0dnXelSKq"
      },
      "source": [
        "class Deque:\n",
        "\n",
        "  def __init__(self, capacidade):\n",
        "    self.capacidade = capacidade\n",
        "    self.inicio = -1\n",
        "    self.final = 0\n",
        "    self.numero_elementos = 0\n",
        "    self.valores = np.empty(self.capacidade, dtype=int)\n",
        "\n",
        "  def __deque_cheio(self):\n",
        "    return (self.inicio == 0 and self.final == self.capacidade - 1) or (self.inicio == self.final + 1)\n",
        "\n",
        "  def __deque_vazio(self):\n",
        "    return self.inicio == -1\n",
        "\n",
        "  def insere_inicio(self, valor):\n",
        "    if self.__deque_cheio():\n",
        "      print('O deque está cheio')\n",
        "      return\n",
        "\n",
        "    # Se estiver vazio\n",
        "    if self.inicio == -1:\n",
        "      self.inicio = 0\n",
        "      self.final = 0\n",
        "    # Início estiver na primeira posição\n",
        "    elif self.inicio == 0:\n",
        "      self.inicio = self.capacidade - 1\n",
        "    else:\n",
        "      self.inicio -= 1\n",
        "\n",
        "    self.valores[self.inicio] = valor\n",
        "\n",
        "  def insere_final(self, valor):\n",
        "    if self.__deque_cheio():\n",
        "      print('O deque está cheio')\n",
        "      return\n",
        "\n",
        "    # Se estiver vazio\n",
        "    if self.inicio == -1:\n",
        "      self.inicio = 0\n",
        "      self.final = 0\n",
        "    # Final estiver na última posição\n",
        "    elif self.final == self.capacidade - 1:\n",
        "      self.final = 0\n",
        "    else:\n",
        "      self.final += 1\n",
        "\n",
        "    self.valores[self.final] = valor\n",
        "\n",
        "  def excluir_inicio(self):\n",
        "    if self.__deque_vazio():\n",
        "      print('O deque já está vazio')\n",
        "      return\n",
        "\n",
        "    # Possui somente um elemento\n",
        "    if self.inicio == self.final:\n",
        "      self.inicio = -1\n",
        "      self.final = -1\n",
        "    else:\n",
        "      # Volta para a posição inicial\n",
        "      if self.inicio == self.capacidade - 1:\n",
        "        self.inicio = 0\n",
        "      else:\n",
        "        # Incrementar início para remover o início atual\n",
        "        self.inicio += 1\n",
        "\n",
        "  def excluir_final(self):\n",
        "    if self.__deque_vazio():\n",
        "      print('O deque já está vazio')\n",
        "      return\n",
        "\n",
        "    if self.inicio == self.final:\n",
        "      self.inicio = -1\n",
        "      self.final = -1\n",
        "    elif self.inicio == 0:\n",
        "      self.final = self.capacidade - 1\n",
        "    else:\n",
        "      self.final -= 1\n",
        "\n",
        "  def get_inicio(self):\n",
        "    if self.__deque_vazio():\n",
        "      print('O deque já está vazio')\n",
        "      return\n",
        "\n",
        "    return self.valores[self.inicio]\n",
        "\n",
        "  def get_final(self):\n",
        "    if self.__deque_vazio() or self.final < 0:\n",
        "      print('O deque já está vazio')\n",
        "      return\n",
        "\n",
        "    return self.valores[self.final]"
      ],
      "execution_count": 2,
      "outputs": []
    },
    {
      "cell_type": "code",
      "metadata": {
        "id": "RdRgD72-fZIS"
      },
      "source": [
        "deque = Deque(5)"
      ],
      "execution_count": 3,
      "outputs": []
    },
    {
      "cell_type": "code",
      "metadata": {
        "id": "-RTa51_BffSX"
      },
      "source": [
        "deque.insere_final(5)"
      ],
      "execution_count": 4,
      "outputs": []
    },
    {
      "cell_type": "code",
      "metadata": {
        "id": "CmkR-bCnfina",
        "colab": {
          "base_uri": "https://localhost:8080/"
        },
        "outputId": "c4bccc87-2c8a-4da8-c1f6-b594353dadaf"
      },
      "source": [
        "deque.get_inicio(), deque.get_final()"
      ],
      "execution_count": 5,
      "outputs": [
        {
          "output_type": "execute_result",
          "data": {
            "text/plain": [
              "(5, 5)"
            ]
          },
          "metadata": {},
          "execution_count": 5
        }
      ]
    },
    {
      "cell_type": "code",
      "metadata": {
        "id": "1OddEhFBf0Ik"
      },
      "source": [
        "# 5 10\n",
        "deque.insere_final(10)"
      ],
      "execution_count": 6,
      "outputs": []
    },
    {
      "cell_type": "code",
      "metadata": {
        "id": "LyHpJWNvf6RC",
        "colab": {
          "base_uri": "https://localhost:8080/"
        },
        "outputId": "6648c89e-2b9c-4ca5-d677-5359b998f1d9"
      },
      "source": [
        "deque.get_inicio(), deque.get_final()"
      ],
      "execution_count": 7,
      "outputs": [
        {
          "output_type": "execute_result",
          "data": {
            "text/plain": [
              "(5, 10)"
            ]
          },
          "metadata": {},
          "execution_count": 7
        }
      ]
    },
    {
      "cell_type": "code",
      "metadata": {
        "id": "fDPKNKntf8vm"
      },
      "source": [
        "# 3 5 10\n",
        "deque.insere_inicio(3)"
      ],
      "execution_count": 8,
      "outputs": []
    },
    {
      "cell_type": "code",
      "metadata": {
        "id": "H1o4MV4OgBkN",
        "colab": {
          "base_uri": "https://localhost:8080/"
        },
        "outputId": "78dabb1b-bc5e-4444-e982-85c321d51d83"
      },
      "source": [
        "deque.get_inicio(), deque.get_final()"
      ],
      "execution_count": 9,
      "outputs": [
        {
          "output_type": "execute_result",
          "data": {
            "text/plain": [
              "(3, 10)"
            ]
          },
          "metadata": {},
          "execution_count": 9
        }
      ]
    },
    {
      "cell_type": "code",
      "metadata": {
        "id": "X8Q9fSg3gE6F"
      },
      "source": [
        "# 2 3 5 10 11\n",
        "deque.insere_inicio(2)\n",
        "deque.insere_final(11)"
      ],
      "execution_count": 10,
      "outputs": []
    },
    {
      "cell_type": "code",
      "metadata": {
        "id": "SxjSCUhRgM5w",
        "colab": {
          "base_uri": "https://localhost:8080/"
        },
        "outputId": "fd514215-96cb-461c-df1a-6145961c04b2"
      },
      "source": [
        "deque.get_inicio(), deque.get_final()"
      ],
      "execution_count": 11,
      "outputs": [
        {
          "output_type": "execute_result",
          "data": {
            "text/plain": [
              "(2, 11)"
            ]
          },
          "metadata": {},
          "execution_count": 11
        }
      ]
    },
    {
      "cell_type": "code",
      "metadata": {
        "id": "M-E6cTMFgQyF"
      },
      "source": [
        "# 3 5 10\n",
        "deque.excluir_inicio()\n",
        "deque.excluir_final()"
      ],
      "execution_count": 12,
      "outputs": []
    },
    {
      "cell_type": "code",
      "metadata": {
        "id": "cXtI4ZAigXAA",
        "colab": {
          "base_uri": "https://localhost:8080/"
        },
        "outputId": "3aff68e6-b840-4d37-faaa-08399ecf80e3"
      },
      "source": [
        "deque.get_inicio(), deque.get_final()"
      ],
      "execution_count": 13,
      "outputs": [
        {
          "output_type": "execute_result",
          "data": {
            "text/plain": [
              "(3, 10)"
            ]
          },
          "metadata": {},
          "execution_count": 13
        }
      ]
    },
    {
      "cell_type": "code",
      "metadata": {
        "id": "GUrMMqi2gaDN",
        "colab": {
          "base_uri": "https://localhost:8080/"
        },
        "outputId": "237108dc-ccf0-449c-a7b1-ebe380519a4e"
      },
      "source": [
        "deque.valores"
      ],
      "execution_count": 14,
      "outputs": [
        {
          "output_type": "execute_result",
          "data": {
            "text/plain": [
              "array([ 5, 10, 11,  2,  3])"
            ]
          },
          "metadata": {},
          "execution_count": 14
        }
      ]
    },
    {
      "cell_type": "code",
      "metadata": {
        "id": "S4PFLGxjgeZU",
        "colab": {
          "base_uri": "https://localhost:8080/"
        },
        "outputId": "daed6bb2-3055-4d5c-abef-c683ebd3af86"
      },
      "source": [
        "deque.inicio"
      ],
      "execution_count": 15,
      "outputs": [
        {
          "output_type": "execute_result",
          "data": {
            "text/plain": [
              "4"
            ]
          },
          "metadata": {},
          "execution_count": 15
        }
      ]
    },
    {
      "cell_type": "code",
      "metadata": {
        "id": "V5FsTrkKgkNR",
        "colab": {
          "base_uri": "https://localhost:8080/"
        },
        "outputId": "867b0ba6-972a-49db-de50-e34ddb9f3397"
      },
      "source": [
        "deque.final"
      ],
      "execution_count": 16,
      "outputs": [
        {
          "output_type": "execute_result",
          "data": {
            "text/plain": [
              "1"
            ]
          },
          "metadata": {},
          "execution_count": 16
        }
      ]
    },
    {
      "cell_type": "code",
      "metadata": {
        "id": "r8uXcpDq9rAk"
      },
      "source": [
        "a = np.array([[1,2],[3,4]])\n",
        "b = np.array([[4,5], [8,9]])"
      ],
      "execution_count": 17,
      "outputs": []
    },
    {
      "cell_type": "code",
      "metadata": {
        "id": "FJPbqBBU96qu",
        "colab": {
          "base_uri": "https://localhost:8080/"
        },
        "outputId": "4c9438a9-11d2-4699-c701-8cca0df58a63"
      },
      "source": [
        "a.dot(b)"
      ],
      "execution_count": 18,
      "outputs": [
        {
          "output_type": "execute_result",
          "data": {
            "text/plain": [
              "array([[20, 23],\n",
              "       [44, 51]])"
            ]
          },
          "metadata": {},
          "execution_count": 18
        }
      ]
    },
    {
      "cell_type": "code",
      "metadata": {
        "id": "wtyaYYvP-Gd5",
        "colab": {
          "base_uri": "https://localhost:8080/"
        },
        "outputId": "d6975267-da50-48d6-f0a9-dbd7bdffe55a"
      },
      "source": [
        "b.dot(a)"
      ],
      "execution_count": 19,
      "outputs": [
        {
          "output_type": "execute_result",
          "data": {
            "text/plain": [
              "array([[19, 28],\n",
              "       [35, 52]])"
            ]
          },
          "metadata": {},
          "execution_count": 19
        }
      ]
    }
  ]
}